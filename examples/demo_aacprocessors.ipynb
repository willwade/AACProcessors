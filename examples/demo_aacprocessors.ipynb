{
 "cells": [
  {
   "cell_type": "markdown",
   "metadata": {
    "id": "BMuYa8yYyK0S"
   },
   "source": []
  },
  {
   "cell_type": "markdown",
   "metadata": {
    "id": "i6XXQfDVyD_z"
   },
   "source": [
    "This notebook demonstrates the main features of the AACProcessors library. First, let's install the package:\n"
   ]
  },
  {
   "cell_type": "code",
   "execution_count": 1,
   "metadata": {
    "colab": {
     "base_uri": "https://localhost:8080/"
    },
    "id": "9ErrWy_0yMLS",
    "outputId": "f625c6cd-344c-43ec-cf63-48fe8254358f"
   },
   "outputs": [
    {
     "name": "stdout",
     "output_type": "stream",
     "text": [
      "Collecting aac-processors\n",
      "  Downloading aac_processors-0.1.0-py3-none-any.whl.metadata (10 kB)\n",
      "Requirement already satisfied: beautifulsoup4>=4.12.2 in /usr/local/lib/python3.10/dist-packages (from aac-processors) (4.12.3)\n",
      "Requirement already satisfied: lxml>=4.9.3 in /usr/local/lib/python3.10/dist-packages (from aac-processors) (5.3.0)\n",
      "Requirement already satisfied: openpyxl>=3.1.2 in /usr/local/lib/python3.10/dist-packages (from aac-processors) (3.1.5)\n",
      "Requirement already satisfied: pandas>=2.1.1 in /usr/local/lib/python3.10/dist-packages (from aac-processors) (2.2.2)\n",
      "Requirement already satisfied: soupsieve>1.2 in /usr/local/lib/python3.10/dist-packages (from beautifulsoup4>=4.12.2->aac-processors) (2.6)\n",
      "Requirement already satisfied: et-xmlfile in /usr/local/lib/python3.10/dist-packages (from openpyxl>=3.1.2->aac-processors) (2.0.0)\n",
      "Requirement already satisfied: numpy>=1.22.4 in /usr/local/lib/python3.10/dist-packages (from pandas>=2.1.1->aac-processors) (1.26.4)\n",
      "Requirement already satisfied: python-dateutil>=2.8.2 in /usr/local/lib/python3.10/dist-packages (from pandas>=2.1.1->aac-processors) (2.8.2)\n",
      "Requirement already satisfied: pytz>=2020.1 in /usr/local/lib/python3.10/dist-packages (from pandas>=2.1.1->aac-processors) (2024.2)\n",
      "Requirement already satisfied: tzdata>=2022.7 in /usr/local/lib/python3.10/dist-packages (from pandas>=2.1.1->aac-processors) (2024.2)\n",
      "Requirement already satisfied: six>=1.5 in /usr/local/lib/python3.10/dist-packages (from python-dateutil>=2.8.2->pandas>=2.1.1->aac-processors) (1.17.0)\n",
      "Downloading aac_processors-0.1.0-py3-none-any.whl (51 kB)\n",
      "\u001b[2K   \u001b[90m━━━━━━━━━━━━━━━━━━━━━━━━━━━━━━━━━━━━━━━━\u001b[0m \u001b[32m51.1/51.1 kB\u001b[0m \u001b[31m1.5 MB/s\u001b[0m eta \u001b[36m0:00:00\u001b[0m\n",
      "\u001b[?25hInstalling collected packages: aac-processors\n",
      "Successfully installed aac-processors-0.1.0\n"
     ]
    }
   ],
   "source": [
    "!pip install aac-processors"
   ]
  },
  {
   "cell_type": "markdown",
   "metadata": {
    "id": "R993Ad9oyVw4"
   },
   "source": [
    "## Download Example Files\n",
    "Let's get some example AAC files to work with"
   ]
  },
  {
   "cell_type": "code",
   "execution_count": 2,
   "metadata": {
    "colab": {
     "base_uri": "https://localhost:8080/"
    },
    "id": "kNKJpxQkyawL",
    "outputId": "fa614577-89a9-4aeb-dd4a-9bc23144df63"
   },
   "outputs": [
    {
     "name": "stdout",
     "output_type": "stream",
     "text": [
      "--2025-01-15 11:47:09--  https://raw.githubusercontent.com/willwade/AACProcessors/main/examples/demofiles/SimpleTest.gridset\n",
      "Resolving raw.githubusercontent.com (raw.githubusercontent.com)... 185.199.108.133, 185.199.109.133, 185.199.110.133, ...\n",
      "Connecting to raw.githubusercontent.com (raw.githubusercontent.com)|185.199.108.133|:443... connected.\n",
      "HTTP request sent, awaiting response... 200 OK\n",
      "Length: 366974 (358K) [application/octet-stream]\n",
      "Saving to: ‘SimpleTest.gridset’\n",
      "\n",
      "SimpleTest.gridset  100%[===================>] 358.37K  --.-KB/s    in 0.04s   \n",
      "\n",
      "2025-01-15 11:47:09 (8.11 MB/s) - ‘SimpleTest.gridset’ saved [366974/366974]\n",
      "\n"
     ]
    }
   ],
   "source": [
    "!wget https://raw.githubusercontent.com/willwade/AACProcessors/main/examples/demofiles/SimpleTest.gridset"
   ]
  },
  {
   "cell_type": "markdown",
   "metadata": {
    "id": "1FggOhgNyh_s"
   },
   "source": [
    "1. View File Structure. Let's examine the structure of a Grid3 file:"
   ]
  },
  {
   "cell_type": "code",
   "execution_count": 7,
   "metadata": {
    "colab": {
     "base_uri": "https://localhost:8080/"
    },
    "id": "VHQjnmPaymqw",
    "outputId": "d8a337bc-5113-4ad4-aa44-ce5098b18fd7"
   },
   "outputs": [
    {
     "name": "stdout",
     "output_type": "stream",
     "text": [
      "Viewing structure of SimpleTest.gridset\n",
      "\n",
      "=== AAC Board Structure ===\n",
      "\n",
      "Root Page:\n",
      "  📄 Start (4x4 grid)\n",
      "    Row 0:\n",
      "      [Empty] (0, 0)\n",
      "      🔀 quick chat (0, 1)\n",
      "        └─ Says: quick chat\n",
      "        └─ Goes to: quick chat\n",
      "      🔀 don't like (0, 2)\n",
      "        └─ Says: don't like\n",
      "        └─ Goes to: Don't like\n",
      "      🔀 something different (0, 3)\n",
      "        └─ Says: something different\n",
      "        └─ Goes to: something different\n",
      "    Row 1:\n",
      "      [Empty] (1, 0)\n",
      "      🔀 something's wrong (1, 1)\n",
      "        └─ Says: something's wrong\n",
      "        └─ Goes to: something's wrong\n",
      "      🔀 I want (1, 2)\n",
      "        └─ Says: I want\n",
      "        └─ Goes to: I want\n",
      "      🔀 Comment (1, 3)\n",
      "        └─ Says: Comment\n",
      "        └─ Goes to: Comment\n",
      "    Row 2:\n",
      "      [Empty] (2, 0)\n",
      "      🔀 About me (2, 1)\n",
      "        └─ Says: About me\n",
      "        └─ Goes to: About me\n",
      "      └─ Target Page:\n",
      "          📄 About me (5x4 grid)\n",
      "            Row 0:\n",
      "              🗣️ [No Label] (0, 0)\n",
      "              🗣️ Back (0, 1)\n",
      "                └─ Says: Back\n",
      "              🔀 Family (0, 2)\n",
      "                └─ Says: Family\n",
      "                └─ Goes to: Family\n",
      "              └─ Target Page:\n",
      "                  📄 Family (5x7 grid)\n",
      "                    Row 0:\n",
      "                      [Empty] (0, 0)\n",
      "                      🗣️ Back (0, 1)\n",
      "                        └─ Says: Back\n",
      "                      [Empty] (0, 2)\n",
      "                      🗣️ Younger Sister (0, 3)\n",
      "                        └─ Says: Younger Sister\n",
      "                      [Empty] (0, 4)\n",
      "                      [Empty] (0, 5)\n",
      "                      [Empty] (0, 6)\n",
      "                    Row 1:\n",
      "                      [Empty] (1, 0)\n",
      "                      🗣️ Dad (1, 1)\n",
      "                        └─ Says: Dad\n",
      "                      [Empty] (1, 2)\n",
      "                      [Empty] (1, 3)\n",
      "                      [Empty] (1, 4)\n",
      "                      [Empty] (1, 5)\n",
      "                      [Empty] (1, 6)\n",
      "                    Row 2:\n",
      "                      [Empty] (2, 0)\n",
      "                      [Empty] (2, 1)\n",
      "                      [Empty] (2, 2)\n",
      "                      🔀 Cousins (2, 3)\n",
      "                        └─ Says: Cousins\n",
      "                        └─ Goes to: Cousins\n",
      "                      [Empty] (2, 4)\n",
      "                      [Empty] (2, 5)\n",
      "                      [Empty] (2, 6)\n",
      "                    Row 3:\n",
      "                      [Empty] (3, 0)\n",
      "                      🗣️ Mum (3, 1)\n",
      "                        └─ Says: Mum\n",
      "                      [Empty] (3, 2)\n",
      "                      [Empty] (3, 3)\n",
      "                      [Empty] (3, 4)\n",
      "                      [Empty] (3, 5)\n",
      "                      [Empty] (3, 6)\n",
      "                    Row 4:\n",
      "                      [Empty] (4, 0)\n",
      "                      [Empty] (4, 1)\n",
      "                      [Empty] (4, 2)\n",
      "                      🔀 Aunts and Uncles (4, 3)\n",
      "                        └─ Says: Aunts and Uncles\n",
      "                        └─ Goes to: Aunts and Uncles\n",
      "                      [Empty] (4, 4)\n",
      "                      [Empty] (4, 5)\n",
      "                      [Empty] (4, 6)\n",
      "              🗣️ Vegetarian (0, 3)\n",
      "                └─ Says: Vegetarian\n",
      "            Row 1:\n",
      "              [Empty] (1, 0)\n",
      "              🗣️ Name (1, 1)\n",
      "                └─ Says: Name\n",
      "              🔀 Pets (1, 2)\n",
      "                └─ Says: Pets\n",
      "                └─ Goes to: Pets\n",
      "              [Empty] (1, 3)\n",
      "            Row 2:\n",
      "              [Empty] (2, 0)\n",
      "              🗣️ Age (2, 1)\n",
      "                └─ Says: Age\n",
      "              🔀 Places I have been (2, 2)\n",
      "                └─ Says: Places I have been\n",
      "                └─ Goes to: Places I have been\n",
      "              [Empty] (2, 3)\n",
      "            Row 3:\n",
      "              [Empty] (3, 0)\n",
      "              🗣️ My birthday (3, 1)\n",
      "                └─ Says: My birthday\n",
      "              🗣️ like to look (3, 2)\n",
      "                └─ Says: like to look\n",
      "              [Empty] (3, 3)\n",
      "            Row 4:\n",
      "              [Empty] (4, 0)\n",
      "              [Empty] (4, 1)\n",
      "              [Empty] (4, 2)\n",
      "              [Empty] (4, 3)\n",
      "      🔀 I'm asking a question (2, 2)\n",
      "        └─ Says: I'm asking a question\n",
      "        └─ Goes to: questions\n",
      "      🔀 I feel (2, 3)\n",
      "        └─ Says: I feel\n",
      "        └─ Goes to: Feelings\n",
      "      └─ Target Page:\n",
      "          📄 Feelings (6x4 grid)\n",
      "            Row 0:\n",
      "              🗣️ [No Label] (0, 0)\n",
      "              🗣️ Back (0, 1)\n",
      "                └─ Says: Back\n",
      "              🗣️ angry. (0, 2)\n",
      "                └─ Says: angry.\n",
      "              [Empty] (0, 3)\n",
      "            Row 1:\n",
      "              [Empty] (1, 0)\n",
      "              🗣️ happy. (1, 1)\n",
      "                └─ Says: happy.\n",
      "              🗣️ excited. (1, 2)\n",
      "                └─ Says: excited.\n",
      "              [Empty] (1, 3)\n",
      "            Row 2:\n",
      "              [Empty] (2, 0)\n",
      "              🗣️ sad. (2, 1)\n",
      "                └─ Says: sad.\n",
      "              🗣️ fantastic. (2, 2)\n",
      "                └─ Says: fantastic.\n",
      "              [Empty] (2, 3)\n",
      "            Row 3:\n",
      "              [Empty] (3, 0)\n",
      "              🗣️ tired. (3, 1)\n",
      "                └─ Says: tired.\n",
      "              [Empty] (3, 2)\n",
      "              [Empty] (3, 3)\n",
      "            Row 4:\n",
      "              [Empty] (4, 0)\n",
      "              [Empty] (4, 1)\n",
      "              [Empty] (4, 2)\n",
      "              [Empty] (4, 3)\n",
      "            Row 5:\n",
      "              [Empty] (5, 0)\n",
      "              [Empty] (5, 1)\n",
      "              [Empty] (5, 2)\n",
      "              [Empty] (5, 3)\n",
      "    Row 3:\n",
      "      [Empty] (3, 0)\n",
      "      🔀 like (3, 1)\n",
      "        └─ Says: like\n",
      "        └─ Goes to: Like\n",
      "      🔀 Places to go (3, 2)\n",
      "        └─ Says: Places to go\n",
      "        └─ Goes to: let's go\n",
      "      🔀 Alphabet (3, 3)\n",
      "        └─ Says: Alphabet\n",
      "        └─ Goes to: Alphabet\n",
      "\n",
      "=== Navigation Analysis ===\n",
      "\n",
      "Total Pages: 6\n",
      "\n",
      "Dead End Pages (no way back):\n",
      "  - Feelings\n",
      "  - Family\n",
      "\n",
      "Orphaned Pages (no way to reach):\n",
      "  - About me 2\n",
      "  - Drinks\n"
     ]
    }
   ],
   "source": [
    "import os\n",
    "\n",
    "from aac_processors import GridsetProcessor, viewer\n",
    "\n",
    "# Initialize processor\n",
    "processor = GridsetProcessor()\n",
    "gridset_file = \"SimpleTest.gridset\"\n",
    "if os.path.exists(gridset_file):\n",
    "  print(f\"Viewing structure of {os.path.basename(gridset_file)}\")\n",
    "  tree = processor.load_into_tree(gridset_file)\n",
    "  viewer.print_tree(tree)"
   ]
  },
  {
   "cell_type": "markdown",
   "metadata": {
    "id": "a6umv1dgzfbM"
   },
   "source": []
  }
 ],
 "metadata": {
  "colab": {
   "provenance": []
  },
  "kernelspec": {
   "display_name": "Python 3",
   "name": "python3"
  },
  "language_info": {
   "name": "python"
  }
 },
 "nbformat": 4,
 "nbformat_minor": 0
}